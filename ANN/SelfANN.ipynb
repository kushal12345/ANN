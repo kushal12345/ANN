{
 "cells": [
  {
   "cell_type": "code",
   "execution_count": 1,
   "metadata": {
    "collapsed": true
   },
   "outputs": [],
   "source": [
    "import numpy as np"
   ]
  },
  {
   "cell_type": "code",
   "execution_count": 2,
   "metadata": {},
   "outputs": [
    {
     "name": "stdout",
     "output_type": "stream",
     "text": [
      "[[4.17022005e-01 7.20324493e-01 1.14374817e-04 3.02332573e-01]\n",
      " [1.46755891e-01 9.23385948e-02 1.86260211e-01 3.45560727e-01]\n",
      " [3.96767474e-01 5.38816734e-01 4.19194514e-01 6.85219500e-01]]\n"
     ]
    }
   ],
   "source": [
    "X = np.array([[0, 0, 1], [0, 1, 1], [1, 0, 1], [1, 1, 1]])\n",
    "Y = np.array([[1], [0], [0], [1]])\n",
    "np.random.seed(1)\n",
    "\n",
    "# Weights as Random\n",
    "weightForFirstLayer = np.random.random((3, 4)) \n",
    "weightForSecondLayer = np.random.random((4, 1))\n",
    "\n",
    "print(weightForFirstLayer)"
   ]
  },
  {
   "cell_type": "code",
   "execution_count": 3,
   "metadata": {
    "collapsed": true
   },
   "outputs": [],
   "source": [
    "# Activation Functions (Sigmoid)\n",
    "def activationFunction(x):\n",
    "    return (1/(1+np.exp(-x)))"
   ]
  },
  {
   "cell_type": "code",
   "execution_count": 4,
   "metadata": {
    "collapsed": true
   },
   "outputs": [],
   "source": [
    "# Derivative Function\n",
    "def derivative(x):\n",
    "    return x * (1 - x)"
   ]
  },
  {
   "cell_type": "code",
   "execution_count": 5,
   "metadata": {},
   "outputs": [
    {
     "name": "stdout",
     "output_type": "stream",
     "text": [
      "Error -0.28018321782132505\n",
      "Error -0.0010933187187912759\n",
      "Error -0.0007838736494232583\n",
      "Error -0.0006474026683720904\n",
      "Error -0.0005657620847940052\n",
      "Error -0.0005097897856850384\n"
     ]
    }
   ],
   "source": [
    "for i in range(60000):\n",
    "    # Layers\n",
    "    layer1 = activationFunction(np.dot(X, weightForFirstLayer))\n",
    "    layer2 = activationFunction(np.dot(layer1, weightForSecondLayer))\n",
    "    \n",
    "    # Error\n",
    "    layer2Error = Y - layer2\n",
    "    \n",
    "    if (i % 10000) == 0:\n",
    "        print('Error ' + str( np.mean(layer2Error)) ) \n",
    "    \n",
    "    layer2Derivative = derivative(layer2)\n",
    "    layer2Delta = layer2Error * layer2Derivative\n",
    "    \n",
    "    layer1Error= np.dot(layer2Delta, weightForSecondLayer.T)\n",
    "    layer1Derivative = derivative(layer1)\n",
    "    layer1Delta = layer1Error * layer1Derivative\n",
    "    \n",
    "    weightForSecondLayer = weightForSecondLayer + np.dot(layer1.T, layer2Delta)\n",
    "    weightForFirstLayer = weightForFirstLayer + np.dot(X.T, layer1Delta)"
   ]
  },
  {
   "cell_type": "code",
   "execution_count": 6,
   "metadata": {},
   "outputs": [
    {
     "data": {
      "text/plain": [
       "array([[0.998],\n",
       "       [0.005],\n",
       "       [0.004],\n",
       "       [0.994]])"
      ]
     },
     "execution_count": 6,
     "metadata": {},
     "output_type": "execute_result"
    }
   ],
   "source": [
    "np.round(layer2, 3)"
   ]
  },
  {
   "cell_type": "code",
   "execution_count": null,
   "metadata": {
    "collapsed": true
   },
   "outputs": [],
   "source": []
  }
 ],
 "metadata": {
  "kernelspec": {
   "display_name": "Python 3",
   "language": "python",
   "name": "python3"
  },
  "language_info": {
   "codemirror_mode": {
    "name": "ipython",
    "version": 3
   },
   "file_extension": ".py",
   "mimetype": "text/x-python",
   "name": "python",
   "nbconvert_exporter": "python",
   "pygments_lexer": "ipython3",
   "version": "3.6.4"
  }
 },
 "nbformat": 4,
 "nbformat_minor": 2
}
